{
 "cells": [
  {
   "cell_type": "markdown",
   "metadata": {},
   "source": [
    "# Intro \n",
    "Supervised Learning\n",
    "\n",
    "Date Range: Jan 2021 to June 2021\n",
    "\n",
    "Linear regression\n",
    "- Target    = hospital admission rate\n",
    "- Feature   = date, vaccination, case_new, case_active, case_unvax, case_fvax\n",
    "\n",
    "KNN regression\n",
    "- Target    = hospital admission rate\n",
    "- Feature   = date, vaccination, case_new, case_active, case_unvax, case_fvax\n",
    "\n",
    "Other Techniques:\n",
    "Linear Reg, KNN, decision tree, random forest, SVM, Neural Network"
   ]
  },
  {
   "cell_type": "markdown",
   "metadata": {},
   "source": [
    "# Prerequisite"
   ]
  },
  {
   "cell_type": "code",
   "execution_count": 2,
   "metadata": {},
   "outputs": [],
   "source": [
    "import random\n",
    "import time\n",
    "import csv\n",
    "\n",
    "import numpy as np\n",
    "import pandas as pd\n",
    "import matplotlib.pyplot as plt\n",
    "\n",
    "# TensorFlow\n",
    "import tensorflow as tf\n",
    "from tensorflow.keras import layers, models"
   ]
  },
  {
   "cell_type": "markdown",
   "metadata": {},
   "source": [
    "# Loading DataSet from Github"
   ]
  },
  {
   "cell_type": "code",
   "execution_count": 3,
   "metadata": {},
   "outputs": [],
   "source": [
    "# URL should be https://raw.githubusercontent.com/username/repository/branch/filename.csv so no download needed\n",
    "\n",
    "# Cases, Age, Location, more: https://github.com/MoH-Malaysia/covid19-public/tree/main/epidemic/{specific_file}\n",
    "# Vaccination: https://github.com/CITF-Malaysia/citf-public/tree/main/vaccination/{specific_file}\n",
    "\n",
    "url_cases = \"https://raw.githubusercontent.com/MoH-Malaysia/covid19-public/main/epidemic/cases_malaysia.csv\"\n",
    "url_hosp = \"https://raw.githubusercontent.com/MoH-Malaysia/covid19-public/main/epidemic/hospital.csv\"\n",
    "url_vax = \"https://raw.githubusercontent.com/CITF-Malaysia/citf-public/main/vaccination/vax_malaysia.csv\"\n"
   ]
  },
  {
   "cell_type": "code",
   "execution_count": null,
   "metadata": {},
   "outputs": [],
   "source": [
    "# Linear Regression\n"
   ]
  }
 ],
 "metadata": {
  "kernelspec": {
   "display_name": "Python 3",
   "language": "python",
   "name": "python3"
  },
  "language_info": {
   "codemirror_mode": {
    "name": "ipython",
    "version": 3
   },
   "file_extension": ".py",
   "mimetype": "text/x-python",
   "name": "python",
   "nbconvert_exporter": "python",
   "pygments_lexer": "ipython3",
   "version": "3.10.13"
  }
 },
 "nbformat": 4,
 "nbformat_minor": 2
}
