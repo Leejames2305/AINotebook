{
 "cells": [
  {
   "cell_type": "markdown",
   "metadata": {},
   "source": [
    "# Intro \n",
    "Supervised Learning\n",
    "\n",
    "Date Range: Jan 2021 to June 2021\n",
    "\n",
    "Linear regression\n",
    "- Target    = Recovery cases\n",
    "- Feature   = date, vaccination, case_new, case_active, case_unvax, case_fvax\n",
    "\n",
    "KNN regression\n",
    "- Target    = Recovery cases\n",
    "- Feature   = date, vaccination, case_new, case_active, case_unvax, case_fvax\n",
    "\n",
    "Other Techniques:\n",
    "Linear Reg, KNN, decision tree, random forest, SVM, Neural Network"
   ]
  },
  {
   "cell_type": "markdown",
   "metadata": {},
   "source": [
    "# Prerequisite"
   ]
  },
  {
   "cell_type": "code",
   "execution_count": 5,
   "metadata": {},
   "outputs": [],
   "source": [
    "import random\n",
    "import time\n",
    "import csv\n",
    "\n",
    "import numpy as np\n",
    "import pandas as pd\n",
    "import matplotlib.pyplot as plt\n",
    "\n",
    "# TensorFlow\n",
    "import tensorflow as tf\n",
    "from tensorflow.keras import layers, models"
   ]
  },
  {
   "cell_type": "markdown",
   "metadata": {},
   "source": [
    "# Loading DataSet from Github"
   ]
  },
  {
   "cell_type": "code",
   "execution_count": 6,
   "metadata": {},
   "outputs": [],
   "source": [
    "# URL should be https://raw.githubusercontent.com/username/repository/branch/filename.csv so no download needed\n",
    "\n",
    "# Cases, Age, Location, more: https://github.com/MoH-Malaysia/covid19-public/tree/main/epidemic/{specific_file}\n",
    "# Vaccination: https://github.com/CITF-Malaysia/citf-public/tree/main/vaccination/{specific_file}\n",
    "\n",
    "url_cases = \"https://raw.githubusercontent.com/MoH-Malaysia/covid19-public/main/epidemic/cases_malaysia.csv\"\n",
    "url_vax = \"https://raw.githubusercontent.com/CITF-Malaysia/citf-public/main/vaccination/vax_malaysia.csv\"\n"
   ]
  },
  {
   "cell_type": "code",
   "execution_count": 12,
   "metadata": {},
   "outputs": [
    {
     "name": "stdout",
     "output_type": "stream",
     "text": [
      "           date  cases_new\n",
      "585  2021-09-01      18762\n",
      "586  2021-09-02      20988\n",
      "587  2021-09-03      19378\n",
      "588  2021-09-04      19057\n",
      "589  2021-09-05      20396\n"
     ]
    }
   ],
   "source": [
    "# Linear Regression\n",
    "pd.set_option('display.max_columns', None)\n",
    "\n",
    "df_cases = pd.read_csv(url_cases, usecols=['date', 'cases_new'])\n",
    "df_vax = pd.read_csv(url_vax)\n",
    "\n",
    "columns_to_read = ['date', 'cases_new']\n",
    "\n",
    "start = '2021-09-01'\n",
    "end = '2022-03-31'\n",
    "\n",
    "df_cases = df_cases[(df_cases['date'] >= start) & (df_cases['date'] <= end)]\n",
    "df_vax = df_vax[(df_vax['date'] >= start) & (df_vax['date'] <= end)]\n",
    "\n",
    "print(df_cases.head())"
   ]
  },
  {
   "cell_type": "code",
   "execution_count": null,
   "metadata": {},
   "outputs": [],
   "source": []
  },
  {
   "cell_type": "code",
   "execution_count": null,
   "metadata": {},
   "outputs": [],
   "source": []
  }
 ],
 "metadata": {
  "kernelspec": {
   "display_name": "Python 3",
   "language": "python",
   "name": "python3"
  },
  "language_info": {
   "codemirror_mode": {
    "name": "ipython",
    "version": 3
   },
   "file_extension": ".py",
   "mimetype": "text/x-python",
   "name": "python",
   "nbconvert_exporter": "python",
   "pygments_lexer": "ipython3",
   "version": "3.10.13"
  }
 },
 "nbformat": 4,
 "nbformat_minor": 2
}
