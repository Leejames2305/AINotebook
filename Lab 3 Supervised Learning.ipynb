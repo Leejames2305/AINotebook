{
 "cells": [
  {
   "cell_type": "markdown",
   "metadata": {},
   "source": [
    "# Intro\n",
    "Supervised Learning\n",
    "- Regression\n",
    "- Classification\n",
    "\n",
    "Date Range: \n",
    "\n",
    "Features: \n",
    "- Prediction: Date, Vacination rate, Infection number --> ICU Utilization predict in %\n",
    "- Classification :  Date, Vacination number (age group), Infection number (age Group) --> COVID Risk (low, high)"
   ]
  },
  {
   "cell_type": "markdown",
   "metadata": {},
   "source": [
    "# Prerequisite"
   ]
  },
  {
   "cell_type": "code",
   "execution_count": null,
   "metadata": {},
   "outputs": [],
   "source": [
    "import random\n",
    "import time\n",
    "import csv\n",
    "\n",
    "import numpy as np\n",
    "import pandas as pd\n",
    "import matplotlib.pyplot as plt\n",
    "\n",
    "# TensorFlow\n",
    "import tensorflow as tf\n",
    "from tensorflow.keras import layers, models"
   ]
  },
  {
   "cell_type": "markdown",
   "metadata": {},
   "source": [
    "# Loading DataSet from Github"
   ]
  },
  {
   "cell_type": "code",
   "execution_count": null,
   "metadata": {},
   "outputs": [],
   "source": [
    "# URL should be https://raw.githubusercontent.com/username/repository/branch/filename.csv so no download needed\n",
    "\n",
    "# Cases, Age, Location, more: https://github.com/MoH-Malaysia/covid19-public/tree/main/epidemic/{specific_file}\n",
    "# Vaccination: https://github.com/CITF-Malaysia/citf-public/tree/main/vaccination/{specific_file}\n",
    "\n",
    "url_cases = https://raw.githubusercontent.com/MoH-Malaysia/covid19-public/main/epidemic/cases_malaysia.csv\n",
    "url_vax = https://raw.githubusercontent.com/CITF-Malaysia/citf-public/main/vaccination/vax_malaysia.csv\n",
    "url_vax_age = https://raw.githubusercontent.com/CITF-Malaysia/citf-public/main/vaccination/vax_demog_age.csv\n"
   ]
  }
 ],
 "metadata": {
  "language_info": {
   "name": "python"
  }
 },
 "nbformat": 4,
 "nbformat_minor": 2
}
